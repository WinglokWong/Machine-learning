{
 "cells": [
  {
   "cell_type": "markdown",
   "metadata": {},
   "source": [
    "# Logistic Regression"
   ]
  },
  {
   "cell_type": "markdown",
   "metadata": {},
   "source": [
    "<div style=\"float:right; font-style:italic;color:#AAAAAA\">Author:Winglok</div><br>\n",
    "<div style=\"float:right; font-style:italic;color:#AAAAAA\">From:SCUT</div>"
   ]
  },
  {
   "cell_type": "markdown",
   "metadata": {},
   "source": [
    "**Download the dataset \"a9a&a9a.t\":**"
   ]
  },
  {
   "cell_type": "code",
   "execution_count": 1,
   "metadata": {},
   "outputs": [],
   "source": [
    "import requests\n",
    "r1 = requests.get(\"https://www.csie.ntu.edu.tw/~cjlin/libsvmtools/datasets/binary/a9a\")\n",
    "r2 = requests.get(\"https://www.csie.ntu.edu.tw/~cjlin/libsvmtools/datasets/binary/a9a.t\")"
   ]
  },
  {
   "cell_type": "markdown",
   "metadata": {},
   "source": [
    "**Load the dataset to X_train&y_train,X_val&y_val:**"
   ]
  },
  {
   "cell_type": "code",
   "execution_count": 2,
   "metadata": {},
   "outputs": [],
   "source": [
    "from sklearn.datasets import load_svmlight_file\n",
    "from io import BytesIO\n",
    "X_train, y_train = load_svmlight_file(BytesIO(r1.content), n_features=123)\n",
    "X_train = X_train.toarray()\n",
    "\n",
    "X_val, y_val = load_svmlight_file(BytesIO(r2.content), n_features=123)\n",
    "X_val = X_val.toarray()"
   ]
  },
  {
   "cell_type": "markdown",
   "metadata": {},
   "source": [
    "**Preprocess, change the shape of X_train&y_train,X_val&y_val:**"
   ]
  },
  {
   "cell_type": "code",
   "execution_count": 3,
   "metadata": {},
   "outputs": [],
   "source": [
    "import numpy\n",
    "n_samples, n_features = X_train.shape\n",
    "X_train = numpy.column_stack((X_train, numpy.ones((n_samples, 1))))\n",
    "y_train = y_train.reshape((-1, 1))\n",
    "\n",
    "n_samples, n_features = X_val.shape\n",
    "X_val = numpy.column_stack((X_val, numpy.ones((n_samples, 1))))\n",
    "y_val = y_val.reshape((-1, 1))"
   ]
  },
  {
   "cell_type": "markdown",
   "metadata": {},
   "source": [
    "**Define max iterations, learning rate and batch size:**"
   ]
  },
  {
   "cell_type": "code",
   "execution_count": 4,
   "metadata": {},
   "outputs": [],
   "source": [
    "max_epoch = 1500\n",
    "learning_rate = 0.03\n",
    "batch_size=497\n",
    "\n",
    "losses_train = []\n",
    "losses_val = []"
   ]
  },
  {
   "cell_type": "markdown",
   "metadata": {},
   "source": [
    "**Initialize w by different ways(using normal initialization where $\\mu=0.1,\\sigma=0.1$):**"
   ]
  },
  {
   "cell_type": "code",
   "execution_count": 5,
   "metadata": {},
   "outputs": [],
   "source": [
    "#w = numpy.zeros((n_features + 1, 1))  # initialize with zeros\n",
    "#w = numpy.random.random((n_features + 1, 1))  # initialize with random numbers\n",
    "w = numpy.random.normal(0.1, 0.1, size=(n_features + 1, 1))  # initialize with zero normal distribution"
   ]
  },
  {
   "cell_type": "markdown",
   "metadata": {},
   "source": [
    "**Define sigmoid function:**"
   ]
  },
  {
   "cell_type": "markdown",
   "metadata": {},
   "source": [
    "$$sigmoid(x)=\\frac 1 {1+e^{-x}}$$"
   ]
  },
  {
   "cell_type": "code",
   "execution_count": null,
   "metadata": {},
   "outputs": [],
   "source": [
    "def sigmoid(x):\n",
    "    return 1.0/(1+numpy.exp(-x))"
   ]
  },
  {
   "cell_type": "markdown",
   "metadata": {},
   "source": [
    "**Log-Likehood loss function:**"
   ]
  },
  {
   "cell_type": "markdown",
   "metadata": {},
   "source": [
    "$$J(w)=-\\frac 1 m \\sum_{i=1}^m {[y_i logh_\\omega(X_i)+(1-y_i)log(1-h_\\omega(X_i))]}$$"
   ]
  },
  {
   "cell_type": "markdown",
   "metadata": {},
   "source": [
    "**Gradient:**"
   ]
  },
  {
   "cell_type": "markdown",
   "metadata": {},
   "source": [
    "$$\\frac {\\partial J(\\omega)}{\\partial \\omega_j}=-\\frac 1 m \\sum_{i=1}^m{[y_i(1-h_\\omega(X_i))(-X_{i,j})+(1-y_i)h_\\omega(X_i)(X_{i,j})]}$$"
   ]
  },
  {
   "cell_type": "markdown",
   "metadata": {},
   "source": [
    "$$=-\\frac 1 m \\sum_{i=1}^m(-y_iX_{i,j}+h_\\omega(X_i)X_{i,j})$$"
   ]
  },
  {
   "cell_type": "markdown",
   "metadata": {},
   "source": [
    "$$=-\\frac 1 m \\sum_{i=1}^m{(h_\\omega(X_i)-y_i)X_{i,j}}$$"
   ]
  },
  {
   "cell_type": "markdown",
   "metadata": {},
   "source": [
    "**So we get:**"
   ]
  },
  {
   "cell_type": "markdown",
   "metadata": {},
   "source": [
    "$$\\omega:=\\omega-\\frac 1 n \\sum_{i=1}^m\\alpha(h_\\omega(X_i)-y_i)X_i$$"
   ]
  },
  {
   "cell_type": "markdown",
   "metadata": {},
   "source": [
    "<span style=\"font-style:italic;color:#9a9898\">Where $\\alpha$ is learning rate. And thats how we to update $\\omega$</span>"
   ]
  },
  {
   "cell_type": "markdown",
   "metadata": {},
   "source": [
    "**Training nad iterations:**"
   ]
  },
  {
   "cell_type": "code",
   "execution_count": 7,
   "metadata": {},
   "outputs": [],
   "source": [
    "from sklearn.model_selection import train_test_split\n",
    "for epoch in range(max_epoch):\n",
    "    X_t, X_v, y_t, y_v = train_test_split(X_train, y_train, test_size=1-batch_size/y_train.size)#split X_train and y_train to batch size\n",
    "    y_s=(y_t+1)/2#preprocess the dataset \n",
    "    y_s2=(y_val+1)/2\n",
    "    nums=X_t.shape[0]\n",
    "    w=w-learning_rate*numpy.dot(X_t.transpose(),(sigmoid(numpy.dot(X_t,w))-y_s))/nums #update\n",
    "    \n",
    "    loss_train = -numpy.average(y_s*numpy.log(sigmoid(numpy.dot(X_t,w)))+(1-y_s)*numpy.log(1-sigmoid(numpy.dot(X_t,w))))\n",
    "    losses_train.append(loss_train)#loss of training set of batch size\n",
    "  \n",
    "    loss_val = -numpy.average(y_s2*numpy.log(sigmoid(numpy.dot(X_val,w)))+(1-y_s2)*numpy.log(1-sigmoid(numpy.dot(X_val,w))))\n",
    "    losses_val.append(loss_val)#loss of validation set"
   ]
  },
  {
   "cell_type": "markdown",
   "metadata": {},
   "source": [
    "**Show the precision recall and f1-score rate:**"
   ]
  },
  {
   "cell_type": "code",
   "execution_count": 8,
   "metadata": {},
   "outputs": [
    {
     "name": "stdout",
     "output_type": "stream",
     "text": [
      "             precision    recall  f1-score   support\n",
      "\n",
      "   positive     0.8655    0.9389    0.9007     12435\n",
      "   negative     0.7278    0.5283    0.6122      3846\n",
      "\n",
      "avg / total     0.8330    0.8419    0.8326     16281\n",
      "\n"
     ]
    }
   ],
   "source": [
    "from sklearn.metrics import classification_report\n",
    "print(classification_report(y_s2, numpy.where(numpy.dot(X_val, w) >= 0, 1, 0),\n",
    "                            target_names=[\"positive\", \"negative\"], digits=4))"
   ]
  },
  {
   "cell_type": "markdown",
   "metadata": {},
   "source": [
    "**Plot train loss and validation loss with diff iterations:**"
   ]
  },
  {
   "cell_type": "code",
   "execution_count": 9,
   "metadata": {},
   "outputs": [
    {
     "data": {
      "text/plain": [
       "Text(0.5,1,'The graph of train and validation loss value varing with the number of iterations')"
      ]
     },
     "execution_count": 9,
     "metadata": {},
     "output_type": "execute_result"
    },
    {
     "data": {
      "image/png": "[encoded data removed]",
      "text/plain": [
       "<Figure size 1296x432 with 1 Axes>"
      ]
     },
     "metadata": {},
     "output_type": "display_data"
    }
   ],
   "source": [
    "%matplotlib inline\n",
    "import matplotlib.pyplot as plt\n",
    "plt.figure(figsize=(18, 6))\n",
    "plt.plot(losses_train, color=\"r\", label=\"train\")\n",
    "plt.plot(losses_val, color=\"b\", label=\"validation\")\n",
    "plt.legend()\n",
    "plt.xlabel(\"epoch\")\n",
    "plt.ylabel(\"loss\")\n",
    "plt.title(\"The graph of train and validation loss value varing with the number of iterations\")"
   ]
  },
  {
   "cell_type": "markdown",
   "metadata": {},
   "source": [
    "<span style=\"color:#9a9898\">References:</span>"
   ]
  },
  {
   "cell_type": "markdown",
   "metadata": {},
   "source": [
    "<span style=\"color:#9a9898\">1.逻辑回归（Logistic Regression）[EB/OL]. https://blog.csdn.net/liulina603/article/details/78676723.<br>\n",
    "    2.逻辑回归的理解[EB/OL]. https://blog.csdn.net/t46414704152abc/article/details/79574003.<br>\n",
    "    3.分类算法之逻辑回归详解[EB/OL]. https://blog.csdn.net/yawei_liu1688/article/details/78733641<br>\n",
    "    4.逻辑回归原理解析[EB/OL]. https://yq.aliyun.com/articles/111249?t=t1.<br>\n",
    "    5.逻辑回归：损失函数与梯度下降[EB/OL]. https://blog.csdn.net/jediael_lu/article/details/77852060.<br>\n",
    "    6.逻辑回归(logistic regression)的本质——极大似然估计[EB/OL]. https://blog.csdn.net/zjuPeco/article/details/77165974.<br>\n",
    "7.逻辑斯蒂（logistic）回归深入理解、阐述与实现[EB/OL]. https://www.cnblogs.com/happylion/p/4169945.html.<br>\n",
    "8.机器学习笔记－－classification_report&精确度/召回率/F1值[EB/OL]. https://blog.csdn.net/akadiao/article/details/78788864.<br>\n",
    "9.Markdown 公式指导手册[EB/OL]. https://www.zybuluo.com/codeep/note/163962#4.</span>"
   ]
  }
 ],
 "metadata": {
  "kernelspec": {
   "display_name": "Python 3",
   "language": "python",
   "name": "python3"
  },
  "language_info": {
   "codemirror_mode": {
    "name": "ipython",
    "version": 3
   },
   "file_extension": ".py",
   "mimetype": "text/x-python",
   "name": "python",
   "nbconvert_exporter": "python",
   "pygments_lexer": "ipython3",
   "version": "3.6.3"
  }
 },
 "nbformat": 4,
 "nbformat_minor": 2
}
