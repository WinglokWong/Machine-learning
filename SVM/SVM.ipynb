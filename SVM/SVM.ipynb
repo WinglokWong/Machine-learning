{
 "cells": [
  {
   "cell_type": "markdown",
   "metadata": {},
   "source": [
    "# Support Vector Machine"
   ]
  },
  {
   "cell_type": "markdown",
   "metadata": {},
   "source": [
    "<div style=\"float:right; font-style:italic;color:#AAAAAA\">Author:Winglok</div><br>\n",
    "<div style=\"float:right; font-style:italic;color:#AAAAAA\">From:SCUT</div>"
   ]
  },
  {
   "cell_type": "markdown",
   "metadata": {},
   "source": [
    "**Download the dataset \"a9a&a9a.t\":**"
   ]
  },
  {
   "cell_type": "code",
   "execution_count": 1,
   "metadata": {},
   "outputs": [],
   "source": [
    "import requests\n",
    "r1 = requests.get(\"https://www.csie.ntu.edu.tw/~cjlin/libsvmtools/datasets/binary/a9a\")\n",
    "r2 = requests.get(\"https://www.csie.ntu.edu.tw/~cjlin/libsvmtools/datasets/binary/a9a.t\")"
   ]
  },
  {
   "cell_type": "markdown",
   "metadata": {},
   "source": [
    "**Load the dataset to X_train&y_train,X_val&y_val:**"
   ]
  },
  {
   "cell_type": "code",
   "execution_count": 2,
   "metadata": {},
   "outputs": [],
   "source": [
    "from io import BytesIO\n",
    "from sklearn.datasets import load_svmlight_file\n",
    "\n",
    "X_train, y_train = load_svmlight_file(BytesIO(r1.content), n_features=123)\n",
    "X_train = X_train.toarray()                                      \n",
    "                                                            \n",
    "X_val, y_val = load_svmlight_file(BytesIO(r2.content), n_features=123)         \n",
    "X_val = X_val.toarray()                                                      "
   ]
  },
  {
   "cell_type": "markdown",
   "metadata": {},
   "source": [
    "**Preprocess, change the shape of X_train&y_train,X_val&y_val:**"
   ]
  },
  {
   "cell_type": "code",
   "execution_count": 3,
   "metadata": {},
   "outputs": [],
   "source": [
    "import numpy\n",
    "\n",
    "n_train_samples, n_features = X_train.shape\n",
    "X_train = numpy.column_stack((X_train, numpy.ones((n_train_samples, 1))))\n",
    "y_train = y_train.reshape((-1, 1))   \n",
    "                                                                               \n",
    "n_val_samples, n_features = X_val.shape                                    \n",
    "X_val = numpy.column_stack((X_val, numpy.ones((n_val_samples, 1))))            \n",
    "y_val = y_val.reshape((-1, 1))               "
   ]
  },
  {
   "cell_type": "markdown",
   "metadata": {},
   "source": [
    "**Define max iterations, learning rate  batch size and coefficient C:**"
   ]
  },
  {
   "cell_type": "code",
   "execution_count": 4,
   "metadata": {},
   "outputs": [],
   "source": [
    "import random\n",
    "max_epoch=1000\n",
    "learning_rate = 0.0001\n",
    "batch_size=1500\n",
    "C = 0.5   \n",
    "\n",
    "losses_train = []\n",
    "losses_val = []"
   ]
  },
  {
   "cell_type": "markdown",
   "metadata": {},
   "source": [
    "**Initialize w by different ways(using normal initialization where $\\mu=0.1,\\sigma=0.1$):**"
   ]
  },
  {
   "cell_type": "code",
   "execution_count": 5,
   "metadata": {},
   "outputs": [],
   "source": [
    "# w = numpy.zeros((n_features + 1, 1))  # initialize with zeros\n",
    "# w = numpy.random.random((n_features + 1, 1))  # initialize with random numbers\n",
    "w = numpy.random.normal(0.6, 0.6, size=(n_features + 1, 1))  # initialize with zero normal distributi"
   ]
  },
  {
   "cell_type": "markdown",
   "metadata": {},
   "source": [
    "**Here are some formulas we needed:**"
   ]
  },
  {
   "cell_type": "markdown",
   "metadata": {},
   "source": [
    "**Loss function(target):**"
   ]
  },
  {
   "cell_type": "markdown",
   "metadata": {},
   "source": [
    "$$L=min\\frac {||\\omega||^2_2} 2+C \\sum_{i=1}^m{max(0,1-y_i(X_i\\omega))}$$"
   ]
  },
  {
   "cell_type": "markdown",
   "metadata": {},
   "source": [
    "**Through simple derivation,we get:**"
   ]
  },
  {
   "cell_type": "markdown",
   "metadata": {},
   "source": [
    "$$\\frac{\\partial L(\\omega)} {\\partial \\omega}=\\omega-C(X^Ty_i(or   0))$$"
   ]
  },
  {
   "cell_type": "markdown",
   "metadata": {},
   "source": [
    "<span style=\"font-style:italic;color:#9a9898\">If $1-y_i(X_i\\omega)>0$ here is $y_i$,otherwise is 0</span>"
   ]
  },
  {
   "cell_type": "markdown",
   "metadata": {},
   "source": [
    "**So, we know how to update $\\omega$:**"
   ]
  },
  {
   "cell_type": "markdown",
   "metadata": {},
   "source": [
    "$$\\omega:=\\omega-\\alpha\\frac{\\partial L(\\omega)} {\\partial \\omega}$$"
   ]
  },
  {
   "cell_type": "markdown",
   "metadata": {},
   "source": [
    "**Training nad iterations:**"
   ]
  },
  {
   "cell_type": "code",
   "execution_count": 6,
   "metadata": {},
   "outputs": [],
   "source": [
    "from sklearn.model_selection import train_test_split\n",
    "for epoch in range(max_epoch):\n",
    "    X_t, X_v, y_t, y_v = train_test_split(X_train, y_train, test_size=1-batch_size/y_train.size)#split X_train and y_train to batch size                    \n",
    "    h = 1 - y_t * numpy.dot(X_t, w)         \n",
    "    y_d = numpy.where(h > 0, y_t, 0)#derivation for whether exits y_i\n",
    "    w -= learning_rate * (w - C * numpy.dot(X_t.transpose(), y_d))\n",
    "\n",
    "    loss_train = numpy.sum(w * w) + C * numpy.sum(numpy.maximum(1 - y_t * numpy.dot(X_t, w), 0))\n",
    "    losses_train.append(loss_train/X_t.shape[0])#divided by m for get similar scale(loss)\n",
    "\n",
    "    loss_val = numpy.sum(w * w) + C * numpy.sum(numpy.maximum(1 - y_val * numpy.dot(X_val, w), 0))\n",
    "    losses_val.append(loss_val/X_val.shape[0])#divided by m for get similar scale(loss)"
   ]
  },
  {
   "cell_type": "markdown",
   "metadata": {},
   "source": [
    "**Show the precision recall and f1-score rate:**"
   ]
  },
  {
   "cell_type": "code",
   "execution_count": 7,
   "metadata": {},
   "outputs": [
    {
     "name": "stdout",
     "output_type": "stream",
     "text": [
      "             precision    recall  f1-score   support\n",
      "\n",
      "   positive     0.8727    0.9253    0.8982     12435\n",
      "   negative     0.7000    0.5637    0.6245      3846\n",
      "\n",
      "avg / total     0.8319    0.8399    0.8336     16281\n",
      "\n"
     ]
    }
   ],
   "source": [
    "from sklearn.metrics import classification_report\n",
    "print(classification_report(y_val, numpy.where(numpy.dot(X_val, w) > 0, 1, -1),\n",
    "                            target_names=[\"positive\", \"negative\"], digits=4))"
   ]
  },
  {
   "cell_type": "markdown",
   "metadata": {},
   "source": [
    "**Plot train loss and validation loss with diff iterations:**"
   ]
  },
  {
   "cell_type": "code",
   "execution_count": 8,
   "metadata": {},
   "outputs": [
    {
     "data": {
      "text/plain": [
       "Text(0.5,1,'The graph of training and validation loss value varing with the number of iterations')"
      ]
     },
     "execution_count": 8,
     "metadata": {},
     "output_type": "execute_result"
    },
    {
     "data": {
      "image/png": "[encoded data removed]",
      "text/plain": [
       "<Figure size 1296x432 with 1 Axes>"
      ]
     },
     "metadata": {},
     "output_type": "display_data"
    }
   ],
   "source": [
    "%matplotlib inline\n",
    "import matplotlib.pyplot as plt\n",
    "\n",
    "plt.figure(figsize=(18, 6))\n",
    "plt.plot(losses_train, color=\"r\", label=\"train\")\n",
    "plt.plot(losses_val, color=\"b\", label=\"validation\")\n",
    "plt.legend()\n",
    "plt.xlabel(\"epoch\")\n",
    "plt.ylabel(\"loss\")\n",
    "plt.title(\"The graph of training and validation loss value varing with the number of iterations\")"
   ]
  },
  {
   "cell_type": "markdown",
   "metadata": {},
   "source": [
    "<span style=\"color:#9a9898\">References:</span>"
   ]
  },
  {
   "cell_type": "markdown",
   "metadata": {},
   "source": [
    "<span style=\"color:#9a9898\">\n",
    "1.SVM[EB/OL]. https://blog.csdn.net/liugan528/article/details/79448379.<br>\n",
    "2.SVM理解与参数选择（kernel和C）[EB/OL]. https://blog.csdn.net/ybdesire/article/details/53915093.<br>\n",
    "3.【机器学习】支持向量机SVM原理及推导[EB/OL]. https://blog.csdn.net/u014433413/article/details/78427574<br>\n",
    "4.理解Hinge Loss (折页损失函数、铰链损失函数)[EB/OL]. https://blog.csdn.net/fendegao/article/details/79968994.<br>\n",
    "5.Hinge loss[EB/OL]. https://blog.csdn.net/chaipp0607/article/details/76037351.<br>\n",
    "6.损失函数：Hinge Loss（max margin）[EB/OL]. https://www.cnblogs.com/yymn/p/8336979.html.\n",
    " <\\span>"
   ]
  }
 ],
 "metadata": {
  "kernelspec": {
   "display_name": "Python 3",
   "language": "python",
   "name": "python3"
  },
  "language_info": {
   "codemirror_mode": {
    "name": "ipython",
    "version": 3
   },
   "file_extension": ".py",
   "mimetype": "text/x-python",
   "name": "python",
   "nbconvert_exporter": "python",
   "pygments_lexer": "ipython3",
   "version": "3.6.3"
  }
 },
 "nbformat": 4,
 "nbformat_minor": 2
}
