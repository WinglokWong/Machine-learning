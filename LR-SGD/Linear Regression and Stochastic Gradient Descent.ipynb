{
 "cells": [
  {
   "cell_type": "markdown",
   "metadata": {},
   "source": [
    "# Linear Regression and Stochastic Gradient Descent"
   ]
  },
  {
   "cell_type": "markdown",
   "metadata": {},
   "source": [
    "<div style=\"float:right; font-style:italic;color:#AAAAAA\">Author:Winglok</div><br>\n",
    "<div style=\"float:right; font-style:italic;color:#AAAAAA\">From:SCUT</div>"
   ]
  },
  {
   "cell_type": "markdown",
   "metadata": {},
   "source": [
    "**Download the dataset \"housing_scale\":**"
   ]
  },
  {
   "cell_type": "code",
   "execution_count": 1,
   "metadata": {},
   "outputs": [],
   "source": [
    "import requests\n",
    "r = requests.get('''https://www.csie.ntu.edu.tw/~cjlin/libsvmtools/datasets/regression/housing_scale''')"
   ]
  },
  {
   "cell_type": "markdown",
   "metadata": {},
   "source": [
    "**Load the dataset to X,y:**"
   ]
  },
  {
   "cell_type": "code",
   "execution_count": 2,
   "metadata": {},
   "outputs": [],
   "source": [
    "from sklearn.datasets import load_svmlight_file\n",
    "from io import BytesIO\n",
    "X, y = load_svmlight_file(f=BytesIO(r.content), n_features=13)\n",
    "X = X.toarray()"
   ]
  },
  {
   "cell_type": "markdown",
   "metadata": {},
   "source": [
    "**Preprocess, change the shape of X and y:**"
   ]
  },
  {
   "cell_type": "code",
   "execution_count": 3,
   "metadata": {},
   "outputs": [],
   "source": [
    "import numpy\n",
    "n_samples, n_features = X.shape\n",
    "X = numpy.column_stack((X, numpy.ones((n_samples, 1))))\n",
    "y = y.reshape((-1, 1))"
   ]
  },
  {
   "cell_type": "markdown",
   "metadata": {},
   "source": [
    "**Devide the dataset into traning set and validation set(traning size is 3/4,and validation size is rest here):**"
   ]
  },
  {
   "cell_type": "code",
   "execution_count": 4,
   "metadata": {},
   "outputs": [],
   "source": [
    "from sklearn.model_selection import train_test_split\n",
    "X_train, X_val, y_train, y_val = train_test_split(X, y, test_size=0.25)"
   ]
  },
  {
   "cell_type": "markdown",
   "metadata": {},
   "source": [
    "**Define regular term coefficients learning rate and max epoches:**"
   ]
  },
  {
   "cell_type": "code",
   "execution_count": 5,
   "metadata": {},
   "outputs": [],
   "source": [
    "penalty_factor = 0.01\n",
    "learning_rate = 0.001\n",
    "max_epoch = 3500\n",
    "losses_train = []\n",
    "losses_val = []"
   ]
  },
  {
   "cell_type": "markdown",
   "metadata": {},
   "source": [
    "**Initialize w by different ways(using all zeros here):**"
   ]
  },
  {
   "cell_type": "code",
   "execution_count": 6,
   "metadata": {},
   "outputs": [],
   "source": [
    "# select different initializing method\n",
    "w = numpy.zeros((n_features + 1, 1))  # initialize with zeros\n",
    "# w = numpy.random.random((n_features + 1, 1))  # initialize with random numbers\n",
    "# w = numpy.random.normal(1, 1, size=(n_features + 1, 1))  # initialize with zero normal distribution"
   ]
  },
  {
   "cell_type": "markdown",
   "metadata": {},
   "source": [
    "**Closed solution to linear regression**："
   ]
  },
  {
   "cell_type": "markdown",
   "metadata": {},
   "source": [
    "$$\\hat w=(X^{T}X)^{-1}X^Ty$$"
   ]
  },
  {
   "cell_type": "code",
   "execution_count": 7,
   "metadata": {},
   "outputs": [],
   "source": [
    "X_train_t=X_train.transpose()\n",
    "temp1=numpy.dot(X_train_t,X_train)\n",
    "temp2=numpy.dot(numpy.linalg.inv(temp1),X_train_t)\n",
    "w=numpy.dot(temp2,y_train)"
   ]
  },
  {
   "cell_type": "markdown",
   "metadata": {},
   "source": [
    "**Loss function**："
   ]
  },
  {
   "cell_type": "markdown",
   "metadata": {},
   "source": [
    "$$L=\\frac 1 {2m} \\sum_{i=1}^m{(y_i-X_i\\omega)^2}$$ or $$L=\\frac 1 {2m} ||y_i-X_i\\omega||^2_2$$"
   ]
  },
  {
   "cell_type": "code",
   "execution_count": 8,
   "metadata": {},
   "outputs": [
    {
     "name": "stdout",
     "output_type": "stream",
     "text": [
      "The loss under the train set is  11.366724927728239\n",
      "The loss under the validation set is  10.310000043399386\n",
      "The loss under all dataset is  11.101499512096295\n"
     ]
    }
   ],
   "source": [
    "Y_predict_closed = numpy.dot(X_train, w)  # predict under the train set\n",
    "loss_train_closed = 1/2*numpy.average(numpy.square(Y_predict_closed-y_train))\n",
    "\n",
    "Y_predict_closed = numpy.dot(X_val, w)  # predict under the validation set\n",
    "loss_val_closed = 1/2*numpy.average(numpy.square(Y_predict_closed-y_val)) \n",
    "\n",
    "Y_predict_closed = numpy.dot(X, w)  # under all dataset\n",
    "loss_closed=1/2*numpy.average(numpy.square(Y_predict_closed-y))\n",
    "print(\"The loss under the train set is \",loss_train_closed)\n",
    "print(\"The loss under the validation set is \",loss_val_closed)\n",
    "print(\"The loss under all dataset is \",loss_closed)"
   ]
  },
  {
   "cell_type": "markdown",
   "metadata": {},
   "source": [
    "**Train and predict by Stochastic Gradient Descent(SGD):**"
   ]
  },
  {
   "cell_type": "markdown",
   "metadata": {},
   "source": [
    "<span style=font-size:15>*Here are fomulas used below:*</span> "
   ]
  },
  {
   "cell_type": "markdown",
   "metadata": {},
   "source": [
    "<span style=\"font-style:italic\">we have loss function with L1 regularization（Lasso regression）</span>:"
   ]
  },
  {
   "cell_type": "markdown",
   "metadata": {},
   "source": [
    "$$L=\\frac 1 {2m} \\sum_{i=1}^m{(y_i-X_i\\omega)^2}+\\frac {\\lambda} m ||\\omega||_1$$ or $$L=\\frac 1 {2m} ||y_i-X_i\\omega||^2_2+\\frac {\\lambda} m ||\\omega||_1$$"
   ]
  },
  {
   "cell_type": "markdown",
   "metadata": {},
   "source": [
    "<span style=\"font-style:italic\">the gradient is</span>:"
   ]
  },
  {
   "cell_type": "markdown",
   "metadata": {},
   "source": [
    "$$G=\\frac {\\partial L} {\\partial \\omega}=-\\frac 1 m (\\sum_{i=1}^m{y_i X_i^T} -(\\sum_{i=1}^m {X_i^T X_i})\\omega-\\lambda sgn(\\omega))$$"
   ]
  },
  {
   "cell_type": "markdown",
   "metadata": {},
   "source": [
    "<span style=\"font-style:italic;color:#9a9898\">Details about the above derivation：</span>"
   ]
  },
  {
   "cell_type": "markdown",
   "metadata": {},
   "source": [
    "<span style=\"font-style:italic;color:#9a9898\">for above formula, X is a $m\\times13$ matric，and $X_i$ is a row vector which represents a sample with 13 properties, then $\\omega$ is a $13\\times1$ matric which from $\\omega_1$ to $\\omega_{13}$,so we can seek partial guidance on $\\omega_1$（Without loss of generality, We regard that X:$m\\times n$ $\\omega$:$n\\times 1$y:$m\\times1$):$$\\frac {\\partial L} {\\partial \\omega_1}=\\frac {\\partial {\\frac 1 {2m} \\sum_{i=1}^m{(y_i-X_i\\omega)^2}+\\frac {\\lambda} m ||\\omega||_1}} {\\partial \\omega_1}$$<br>$$=\\frac 1 m \\sum_{i=1}^m{(y_i-X_i\\omega)}\\frac{\\partial {\\sum_{i=1}^m {(y_i-X_i\\omega)}}}{\\partial \\omega_1}+\\frac \\lambda m sgn(\\omega_1)$$<br>$$=\\frac 1 m \\sum_{i=1}^m{(y_i-X_i\\omega)}\\frac{\\partial {(y_1-X_{11}\\omega_1-X_{12}\\omega_2-\\cdots-X_{1n}\\omega_n+y_2-X_{21}\\omega_1-X_{22}\\omega_2-\\cdots-X_{2n}\\omega_n+\\cdots+y_m-X_{m1}\\omega_1-X_{m2}\\omega_2-\\cdots-X_{mn}\\omega_n)}}{\\partial \\omega_1}+\\frac \\lambda m sgn(\\omega_1)$$<br>$$=\\frac 1 m \\sum_{i=1}^m{(y_i-X_i\\omega)}(-X_{11}-X_{21}-\\cdots-X_{m1})+\\frac \\lambda m sgn(\\omega_1) $$<br>$$=-\\frac 1 m \\sum_{i=1}^m{(y_i-X_i\\omega)}\\sum_{j=1}^m {X_{j1}}+\\frac \\lambda m sgn(\\omega_1) $$We can also get follow formula and so on:$$\\frac {\\partial L} {\\partial \\omega_2}=-\\frac 1 m \\sum_{i=1}^m{(y_i-X_i\\omega)}\\sum_{j=1}^m {X_{j2}}+\\frac \\lambda m sgn(\\omega_2)$$thus:$$\\frac {\\partial L} {\\partial \\omega}=\\begin{bmatrix}{\\frac {\\partial L} {\\partial \\omega_1}}\\\\ {\\frac {\\partial L} {\\partial \\omega_2}}\\\\ {\\cdots}\\\\ {\\frac {\\partial L} {\\partial \\omega_n}}\\\\ \\end{bmatrix}$$and$$\\begin{bmatrix}{\\sum_{j=1}^m {X_{j1}}}\\\\{\\sum_{j=1}^m {X_{j2}}}\\\\{\\cdots}\\\\{\\sum_{j=1}^m {X_{jn}}}\\\\ \\end{bmatrix}=\\sum_{i=1}^m X_i^T$$and finally we get:$$\\frac {\\partial L} {\\partial \\omega}=-\\frac 1 m \\sum_{i=1}^m {(y_i-X_i\\omega)X_i^T}+\\frac \\lambda m sgn(\\omega)$$<br>$$=-\\frac 1 m (\\sum_{i=1}^m{y_i X_i^T} -(\\sum_{i=1}^m {X_i^T X_i})\\omega-\\lambda sgn(\\omega))$$</span>\n"
   ]
  },
  {
   "cell_type": "markdown",
   "metadata": {},
   "source": [
    " <span style=\"font-style:italic\">update</span> "
   ]
  },
  {
   "cell_type": "markdown",
   "metadata": {},
   "source": [
    "$$\\omega=\\omega-\\eta G$$"
   ]
  },
  {
   "cell_type": "markdown",
   "metadata": {},
   "source": [
    "**pre process:** "
   ]
  },
  {
   "cell_type": "code",
   "execution_count": 9,
   "metadata": {},
   "outputs": [],
   "source": [
    "def sgn(v):       \n",
    "    num=0\n",
    "    for i in v:\n",
    "        if i>0:\n",
    "            v[num]=1\n",
    "        if i<0:\n",
    "            v[num]=-1\n",
    "        if i==0:\n",
    "            v[num]=0\n",
    "        num+=1"
   ]
  },
  {
   "cell_type": "markdown",
   "metadata": {},
   "source": [
    " **training and iteration:**"
   ]
  },
  {
   "cell_type": "code",
   "execution_count": 10,
   "metadata": {
    "scrolled": false
   },
   "outputs": [],
   "source": [
    "import random\n",
    "w = numpy.zeros((n_features + 1, 1))  # initialize with zeros\n",
    "for epoch in range(max_epoch):\n",
    "    r=random.randint(0,X_train.shape[0]-1)\n",
    "    X_train_s=X_train[r]\n",
    "    y_train_s=y_train[r]\n",
    "    X_train_s_t=X_train_s.reshape(X_train_s.shape[0],1)#choose one sample \n",
    "\n",
    "    G = -((y_train_s-numpy.dot(X_train_s,w))*(X_train_s_t)-penalty_factor*w)# calculate the gradient\n",
    "    G = -G\n",
    "    w += learning_rate * G  # update the parameters\n",
    "\n",
    "    Y_predict = numpy.dot(X_train_s, w)  # predict under the train set\n",
    "    loss_train = 1/2*(numpy.square(Y_predict-y_train_s))# calculate \n",
    "    losses_train.append(loss_train)\n",
    "\n",
    "    Y_predict = numpy.dot(X_val, w)  # predict under the validation set\n",
    "    loss_val = 1/2*numpy.average(numpy.square(Y_predict-y_val)) # calculate \n",
    "    losses_val.append(loss_val)"
   ]
  },
  {
   "cell_type": "markdown",
   "metadata": {},
   "source": [
    "**Plot loss values with the number of iterations:**"
   ]
  },
  {
   "cell_type": "code",
   "execution_count": 11,
   "metadata": {
    "scrolled": true
   },
   "outputs": [
    {
     "data": {
      "text/plain": [
       "Text(0.5,1,'The graph of SGD loss value varing with the number of iterations and its closed solution')"
      ]
     },
     "execution_count": 11,
     "metadata": {},
     "output_type": "execute_result"
    },
    {
     "data": {
      "image/png": "[encoded data removed]",
      "text/plain": [
       "<Figure size 1296x432 with 1 Axes>"
      ]
     },
     "metadata": {},
     "output_type": "display_data"
    }
   ],
   "source": [
    "%matplotlib inline\n",
    "import matplotlib.pyplot as plt\n",
    "losses_train_closed=[]\n",
    "losses_val_closed=[]\n",
    "losses_closed=[]\n",
    "plt.figure(figsize=(18, 6))\n",
    "plt.plot(losses_train, \"-\", color=\"r\", label=\"train loss under SGD\")\n",
    "plt.plot(losses_val, \"-\", color=\"b\", label=\"validation loss under SGD\")\n",
    "for i in range(3500):\n",
    "    losses_train_closed.append(loss_train_closed)\n",
    "    losses_val_closed.append(loss_val_closed)\n",
    "    losses_closed.append(loss_closed)\n",
    "plt.plot(losses_train_closed, \"-\", color=\"g\", label=\"closed solution for train loss\")\n",
    "plt.plot(losses_val_closed, \"-\", color=\"c\", label=\"closed solution for validation loss\")\n",
    "plt.plot(losses_closed, \"-\", color=\"k\", label=\"closed solution for all dataset loss\")\n",
    "plt.xlabel(\"epoch\")\n",
    "plt.ylabel(\"loss\")\n",
    "plt.legend()\n",
    "plt.title(\"The graph of SGD loss value varing with the number of iterations and its closed solution\")"
   ]
  },
  {
   "cell_type": "markdown",
   "metadata": {},
   "source": [
    "<span style=\"color:#9a9898\">References:</span>"
   ]
  },
  {
   "cell_type": "markdown",
   "metadata": {},
   "source": [
    "<span style=\"color:#9a9898\">1.机器学习之正则化（Regularization）[EB/OL]. https://www.cnblogs.com/jianxinzhou/p/4083921.html.<br>\n",
    "2.回归系列之L1和L2正则化[EB/OL]. https://www.jianshu.com/p/a47c46153326.<br>\n",
    "3.机器学习总结(一)：线性回归、岭回归、Lasso回归[EB/OL]. https://blog.csdn.net/hzw19920329/article/details/77200475.<br>\n",
    "4.正则化为什么能防止过拟合[EB/OL]. https://www.cnblogs.com/alexanderkun/p/6922428.html.<br>\n",
    "5.最优化方法：梯度下降（批梯度下降和随机梯度下降）[EB/OL]. https://blog.csdn.net/pipisorry/article/details/23692455.<br>\n",
    "6.梯度下降、随机梯度下降和批量梯度下降[EB/OL]. https://www.cnblogs.com/louyihang-loves-baiyan/p/5136447.html.<br>\n",
    "7.Markdown 数学公式[EB/OL]. http://blog.lisp4fun.com/2017/11/01/formula.<br>\n",
    "8.Markdown公式编辑学习笔记[EB/OL]. https://www.cnblogs.com/q735613050/p/7253073.html.<br>\n",
    "9.NumPy 中文文档[EB/OL]. https://www.numpy.org.cn/.\n",
    "</span>\n",
    "\n",
    "\n",
    "\n",
    "\n",
    " "
   ]
  }
 ],
 "metadata": {
  "kernelspec": {
   "display_name": "Python 3",
   "language": "python",
   "name": "python3"
  },
  "language_info": {
   "codemirror_mode": {
    "name": "ipython",
    "version": 3
   },
   "file_extension": ".py",
   "mimetype": "text/x-python",
   "name": "python",
   "nbconvert_exporter": "python",
   "pygments_lexer": "ipython3",
   "version": "3.6.3"
  }
 },
 "nbformat": 4,
 "nbformat_minor": 2
}
